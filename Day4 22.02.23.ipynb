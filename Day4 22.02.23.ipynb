{
 "cells": [
  {
   "cell_type": "code",
   "execution_count": null,
   "id": "bd6b0ada",
   "metadata": {},
   "outputs": [],
   "source": [
    "# 파일읽기\n",
    "with open(\"/Users/lucas/test/sample.txt\",'r',encoding='utf-8') as file:\n",
    "    all_data = file.read()\n",
    "    #print(all_data)\n",
    "\n",
    "print(all_data) # 파이썬의 변수 scope 블럭은 함수 안쪽이 아니다.\n",
    "print(\"파일 읽기 성공\")"
   ]
  },
  {
   "cell_type": "code",
   "execution_count": null,
   "id": "9be2dd4c",
   "metadata": {},
   "outputs": [],
   "source": [
    "with open(\"/Users/lucas/test/sample.txt\",'r',encoding='utf-8') as file:\n",
    "    a_line=file.readline()\n",
    "    while a_line: # 값이 있으면 True 없으면(None) False\n",
    "            print(a_line)\n",
    "            a_line = line.readline()\n",
    "            "
   ]
  },
  {
   "cell_type": "code",
   "execution_count": null,
   "id": "bf4405a3",
   "metadata": {},
   "outputs": [],
   "source": [
    "with open(\"/Users/lucas/test/sample.txt\",'r',encoding='utf-8') as file:\n",
    "    a_line=file.readline()\n",
    "    while True: # 값이 있으면 True 없으면(None) False\n",
    "            a_line=file.readline()\n",
    "            if a_line:\n",
    "                print(a_line)\n",
    "            else:\n",
    "                break"
   ]
  },
  {
   "cell_type": "code",
   "execution_count": null,
   "id": "6b864188",
   "metadata": {},
   "outputs": [],
   "source": [
    "with open(\"/Users/lucas/test/sample.txt\",'r',encoding='utf-8') as file:\n",
    "    a_line=file.readline()\n",
    "    while True: # 값이 있으면 True 없으면(None) False\n",
    "            a_line=file.readline()\n",
    "            if a_line != '':\n",
    "                print(a_line)\n",
    "            else:\n",
    "                break"
   ]
  },
  {
   "cell_type": "code",
   "execution_count": null,
   "id": "11e2db4d",
   "metadata": {},
   "outputs": [],
   "source": [
    "with open(\"/Users/lucas/test/sample.txt\",'r',encoding='utf-8') as file:\n",
    "    all_line_list=file.readlines()\n",
    "    #print(all_line_list) # 리스트로 리턴\n",
    "    for line in all_line_list:\n",
    "        print(line)"
   ]
  },
  {
   "cell_type": "code",
   "execution_count": null,
   "id": "1a0aa078",
   "metadata": {},
   "outputs": [],
   "source": [
    "def scope_local():\n",
    "    test = 'Hello'\n",
    "    print(test)\n",
    "    \n",
    "scope_local()"
   ]
  },
  {
   "cell_type": "code",
   "execution_count": null,
   "id": "e8cc7877",
   "metadata": {},
   "outputs": [],
   "source": [
    "test ='Hello' #전역영역"
   ]
  },
  {
   "cell_type": "code",
   "execution_count": null,
   "id": "2fb1d422",
   "metadata": {},
   "outputs": [],
   "source": [
    "def myfunc():\n",
    "    global test # test를 전역변수로\n",
    "    test='World' #로컬영역\n",
    "    print(test)\n",
    "    \n",
    "myfunc()   # World"
   ]
  },
  {
   "cell_type": "code",
   "execution_count": null,
   "id": "bd3d0bf2",
   "metadata": {},
   "outputs": [],
   "source": [
    "print(test)"
   ]
  },
  {
   "cell_type": "code",
   "execution_count": null,
   "id": "d1feba9b",
   "metadata": {},
   "outputs": [],
   "source": [
    "# 파일쓰기 (덮어쓰기,이어쓰기)\n",
    "# 덮어쓰기\n",
    "with open(\"/Users/lucas/test/myfile.txt\",'w',encoding='utf-8') as file:\n",
    "    file.write(\"11 Neo 01 10k\\n\")\n",
    "    file.write(\"12 Morpheus 01 20k\\n\")\n",
    "    file.write(\"13 Trinity 01 30k\\n\")\n",
    "    \n",
    "print('파일에 덮어쓰기 성공')"
   ]
  },
  {
   "cell_type": "code",
   "execution_count": null,
   "id": "24ab05b2",
   "metadata": {},
   "outputs": [],
   "source": [
    "# 이어쓰기\n",
    "with open(\"/Users/lucas/test/myfile.txt\",'a',encoding='utf-8') as file:\n",
    "    file.write(\"이어쓰기\\n\")\n",
    "    file.write(\"11 Neo 01 10k\\n\")\n",
    "    file.write(\"12 Morpheus 01 20k\\n\")\n",
    "    file.write(\"13 Trinity 01 30k\\n\")\n",
    "    \n",
    "print('파일에 이어쓰기 성공')"
   ]
  },
  {
   "cell_type": "code",
   "execution_count": null,
   "id": "2dc2a0aa",
   "metadata": {},
   "outputs": [],
   "source": [
    "# File IO, CRUD\n",
    "# 키보드에서 사원정보 (num,name,dept,sal)를 입력받아서\n",
    "# Emp 객체에 저장 후에 이용자가 입력을 종료하면\n",
    "# 지금까지 입력된 모든 사원정보를 파일에 저장하는 기능을 작성해보세요\n",
    "# 파일에 기록된 후에는 파일로부터 다시 모든 데이터를 읽어서 Emp에 저장하고\n",
    "# 사원정보 리스트를 화면에 표시홰보세요"
   ]
  },
  {
   "cell_type": "code",
   "execution_count": null,
   "id": "3bf27d37",
   "metadata": {},
   "outputs": [],
   "source": [
    "class Employee:\n",
    "    def __init__(self,num,name,dept,sal):\n",
    "        self.num=num\n",
    "        self.name=name\n",
    "        self.dept=dept\n",
    "        self.sal=sal\n",
    "    def __str__(self):\n",
    "        return f'{self.num}\\t{self.name}\\t{self.dept}\\t{self.sal}\\n'"
   ]
  },
  {
   "cell_type": "code",
   "execution_count": null,
   "id": "eaf4b673",
   "metadata": {},
   "outputs": [],
   "source": [
    "def inputEmp():\n",
    "    kbd=input('num: name: dept: sal:')\n",
    "    [num,name,dept,sal]=kbd.split()\n",
    "    emp = Employee(num,name,dept,sal)\n",
    "    return f'{emp.num}\\t{emp.name}\\t{emp.dept}\\t{emp.sal}\\n'"
   ]
  },
  {
   "cell_type": "code",
   "execution_count": null,
   "id": "9342816d",
   "metadata": {},
   "outputs": [],
   "source": [
    "employeeList=[]\n",
    "def saveEmp():\n",
    "    while True:\n",
    "        employeeList.append(inputEmp())\n",
    "        if input('계속할까요?')=='x':\n",
    "            with open(\"/Users/lucas/test/myEmployee.txt\",'a',encoding='utf-8') as file:\n",
    "                for emp in employeeList:\n",
    "                    file.write(emp)\n",
    "            break\n",
    "    print('파일로 저장성공')\n",
    "readEmpList=[]    \n",
    "def showEmp():\n",
    "    with open(\"/Users/lucas/test/myEmployee.txt\",'r',encoding='utf-8') as file:\n",
    "        a_line_list=file.readlines()\n",
    "        for i in range(len(a_line_list)):\n",
    "            [num,name,dept,sal]=a_line_list[i].split()\n",
    "            readEmp=Employee(num,name,dept,sal)\n",
    "            readEmpList.append(readEmp)\n",
    "        for readItem in readEmpList:\n",
    "            print(readItem)"
   ]
  },
  {
   "cell_type": "code",
   "execution_count": null,
   "id": "af54f448",
   "metadata": {},
   "outputs": [],
   "source": [
    "while True:\n",
    "    cmd=input(\"메뉴를 입력하세요 저장하기(s) 보기(r) 종료(x)\")\n",
    "    if cmd=='s':\n",
    "        saveEmp()\n",
    "    elif cmd=='r':\n",
    "        showEmp()\n",
    "    elif cmd=='x':\n",
    "        print(\"프로그램 종료\")\n",
    "        break"
   ]
  },
  {
   "cell_type": "code",
   "execution_count": null,
   "id": "65ce41b8",
   "metadata": {},
   "outputs": [],
   "source": [
    "class Emp:\n",
    "    def __init__(self,num,name,dept=0,sal=0):\n",
    "        self.num=num\n",
    "        self.name=name\n",
    "        self.dept=dept\n",
    "        self.sal=sal\n",
    "        \n",
    "    def __eq__(self,other):\n",
    "        if(self.num==other.num) and (self.name==other.name):\n",
    "            return True\n",
    "        else:\n",
    "            return False\n",
    "        \n",
    "    def __str__(self):\n",
    "        return f'{self.num}\\t{self.name}\\t{self.dept}\\t{self.sal}'\n",
    "    \n",
    "    def getStr(self): #인스턴스 메소드\n",
    "        return f'{self.num} {self.name} {self.dept} {self.sal}'"
   ]
  },
  {
   "cell_type": "code",
   "execution_count": null,
   "id": "0e19742e",
   "metadata": {},
   "outputs": [],
   "source": [
    "empList=[]\n",
    "for _ in range(3):\n",
    "    strInput = input('번호 이름 부서 급여')\n",
    "    [num,name,dept,sal]=strInput.split()\n",
    "    empList.append(Emp(num,name,dept,sal))"
   ]
  },
  {
   "cell_type": "code",
   "execution_count": null,
   "id": "77a64153",
   "metadata": {},
   "outputs": [],
   "source": [
    "with open(\"/Users/lucas/test/Emp.txt\",'a',encoding='utf-8') as file:\n",
    "    for e in empList:\n",
    "        file.write(e.getStr()+'\\n')\n",
    "print('파일에 저장 성공')"
   ]
  },
  {
   "cell_type": "code",
   "execution_count": null,
   "id": "375b3668",
   "metadata": {},
   "outputs": [],
   "source": [
    "with open(\"/Users/lucas/test/Emp.txt\",'r',encoding='utf-8') as file:\n",
    "    lineList=file.readlines()\n",
    "for line in lineList:\n",
    "    [num,name,dept,sal]=line.split()\n",
    "    print(Emp(num,name,dept,sal))"
   ]
  },
  {
   "cell_type": "code",
   "execution_count": null,
   "id": "91e4d7d0",
   "metadata": {},
   "outputs": [],
   "source": [
    "# 리스트를 문자열로 변환하기\n",
    "nums = ['1','2','3']\n",
    "s='ab'.join(nums)\n",
    "s=''.join(nums)\n",
    "list(s)"
   ]
  },
  {
   "cell_type": "code",
   "execution_count": null,
   "id": "132afcfa",
   "metadata": {},
   "outputs": [],
   "source": [
    "# Binary 파일 다루기\n",
    "# 텍스트 파일: 문자가 유니코드(숫자)로 변환되어 저장, 행 구분\n",
    "# 이진(binary) 파맇 : 헹 구분 없음"
   ]
  },
  {
   "cell_type": "code",
   "execution_count": null,
   "id": "c08c0dbf",
   "metadata": {},
   "outputs": [],
   "source": [
    "with open('/Users/lucas/test/sample.png', 'rb') as infile:\n",
    "    with open('/Users/lucas/test/sample_cpy_while.png','wb') as outfile:\n",
    "        while True:\n",
    "            data=infile.read(1024) #읽는 크기 1kb\n",
    "            if data: \n",
    "                if len(data) > 0:\n",
    "                    outfile.write(data)\n",
    "            else:\n",
    "                break\n",
    "            \n",
    "print(\"파일 복사 성공\")"
   ]
  },
  {
   "cell_type": "code",
   "execution_count": null,
   "id": "ab083145",
   "metadata": {},
   "outputs": [],
   "source": [
    "with open('/Users/lucas/test/sample.png', 'rb') as infile:\n",
    "    with open('/Users/lucas/test/sample_cpy_class.png','wb') as outfile:\n",
    "        while True:\n",
    "            data=infile.read(1024) #읽는 크기 1kb\n",
    "            if len(data)>0: \n",
    "                outfile.write(data)\n",
    "            else:\n",
    "                break\n",
    "            \n",
    "print(\"파일 복사 성공\")"
   ]
  },
  {
   "cell_type": "code",
   "execution_count": null,
   "id": "50f4c71a",
   "metadata": {},
   "outputs": [],
   "source": [
    "#csv 파일 다루기\n",
    "import csv #표준 파이썬에 없다 아나콘다에서 제공 shell 에서 pip로 설치가능\n",
    "with open('/Users/lucas/test/cities.csv', encoding='utf-8') as f:\n",
    "    reader=csv.reader(f)\n",
    "    for row in reader:\n",
    "        print(row)"
   ]
  },
  {
   "cell_type": "markdown",
   "id": "1b2a221f",
   "metadata": {},
   "source": [
    "### 파일을 이용한 CRUD 실습\n",
    " * Product 정보를 입력, 출력, 수정, 삭제, 검색 할 수 있는 기능 작성\n",
    " * 메뉴 : 목록(s), 검색(f), 추가(a), 수정(u), 삭제(d), 종료(x)\n",
    " * 번호, 상품명, 가격, 제조사, 제조일\n",
    " * 수정기능의 대상속성: 가격, 제조사\n",
    " * [추가] 기능을 총해서 입력된 데이터는 파일에 저장\n",
    " * [수정] 기능은 결국 파일에 적용되어야 함\n",
    " * [삭제] 기능도 파일에 적용\n",
    "*  [목록] 기능은 파일의 데이터를 읽어서 화면에 리스트 출력"
   ]
  },
  {
   "cell_type": "code",
   "execution_count": 1,
   "id": "9aaeb403",
   "metadata": {},
   "outputs": [],
   "source": [
    "class Prod:\n",
    "    def __init__(self,num,name,price=0,company=0,mfd=0):\n",
    "        self.num=num\n",
    "        self.name=name\n",
    "        self.price=price\n",
    "        self.company=company\n",
    "        self.mfd=mfd\n",
    "    \n",
    "    def __eq__(self,other):\n",
    "        return (self.num==other.num) and (self.name==other.name)\n",
    "    \n",
    "    def __str__(self):\n",
    "        return f'{self.num}\\t{self.name}\\t{self.price}\\t{self.company}\\t{self.mfd}'\n",
    "    \n",
    "    def getStr(self):\n",
    "        return f'{self.num}\\t{self.name}\\t{self.price}\\t{self.company}\\t{self.mfd}'"
   ]
  },
  {
   "cell_type": "code",
   "execution_count": 1,
   "id": "6774b1b1",
   "metadata": {},
   "outputs": [],
   "source": [
    "class Product:\n",
    "    def __init__(self,num,pname, price=0, maker=None, date=None):\n",
    "        self.num = num\n",
    "        self.pname = pname\n",
    "        self.price = price\n",
    "        self.maker = maker\n",
    "        self.date = date\n",
    "        \n",
    "    def __str__(self):\n",
    "        return f'{self.num}\\t{self.pname}\\t{self.price}\\t{self.maker}\\t{self.date}'\n",
    "    \n",
    "    def fstr(self):\n",
    "        return f'{self.num} {self.pname} {self.price} {self.maker} {self.date}'\n",
    "    \n",
    "    def __eq__(self, other):\n",
    "        if (self.num==other.num) and (self.pname==other.pname):\n",
    "            return True\n",
    "        else:\n",
    "            return False"
   ]
  },
  {
   "cell_type": "code",
   "execution_count": 2,
   "id": "4bf2aee3",
   "metadata": {},
   "outputs": [],
   "source": [
    "def get_list():\n",
    "    pList=[]\n",
    "    with open('/Users/lucas/test/product.txt','r',encoding='utf-8') as file:\n",
    "        line_list = file.readlines()\n",
    "        for line in line_list:\n",
    "            [num,pname,price,maker,date] = line.split()\n",
    "            pList.append( Product(num,pname,price,maker,date) )\n",
    "    return pList"
   ]
  },
  {
   "cell_type": "code",
   "execution_count": 3,
   "id": "67fe7ce3",
   "metadata": {},
   "outputs": [],
   "source": [
    "def print_list(pList=[]):\n",
    "    for p in pList:\n",
    "        print(p.fstr())"
   ]
  },
  {
   "cell_type": "code",
   "execution_count": 4,
   "id": "91392f4e",
   "metadata": {},
   "outputs": [],
   "source": [
    "def print_product(p):\n",
    "    print(p.fstr())"
   ]
  },
  {
   "cell_type": "code",
   "execution_count": 5,
   "id": "f7127242",
   "metadata": {},
   "outputs": [],
   "source": [
    "def find():\n",
    "    pname=input('이름으로 검색:')\n",
    "    pList=get_list()\n",
    "    for p in pList:\n",
    "        if p.pname==pname:\n",
    "            return p"
   ]
  },
  {
   "cell_type": "code",
   "execution_count": 6,
   "id": "c2beb8b3",
   "metadata": {},
   "outputs": [],
   "source": [
    "def addProduct():\n",
    "    sProd = input('번호 상품명 가격 제조사 제조일:')\n",
    "    [num,pname,price,maker,date]=sProd.split()\n",
    "    p=Product(num,pname,price,maker,date)\n",
    "    with open('/Users/lucas/test/product.txt','a',encoding='utf-8')as file:\n",
    "        file.write(p.fstr()+'\\n')\n",
    "        print('상품정보 저장 성공')"
   ]
  },
  {
   "cell_type": "code",
   "execution_count": 11,
   "id": "c95902df",
   "metadata": {},
   "outputs": [],
   "source": [
    "def overwrite(pList=[]):\n",
    "    with open('/Users/lucas/test/product.txt','w',encoding='utf-8')as file:\n",
    "        for p in pList:\n",
    "            file.write(p.fstr()+'\\n')\n",
    "            print('파일에 저장성공')"
   ]
  },
  {
   "cell_type": "code",
   "execution_count": 8,
   "id": "ae8c3de2",
   "metadata": {},
   "outputs": [],
   "source": [
    "def update():\n",
    "    sNumName=input('변경대상 번호 상품명')\n",
    "    [num,pname]=sNumName.split()\n",
    "    p=Product(num,pname)\n",
    "    pList=get_list()\n",
    "    idx=pList.index(p)\n",
    "    newPrice=input('새 가격:')\n",
    "    pList[idx].price=newPrice\n",
    "    overwrite(pList)\n",
    "    print('파일변경 성공')"
   ]
  },
  {
   "cell_type": "code",
   "execution_count": 12,
   "id": "257597ef",
   "metadata": {},
   "outputs": [],
   "source": [
    "def delete():\n",
    "    sNumName=input('삭제대상 번호 상품명')\n",
    "    [num,pname]=sNumName.split()\n",
    "    p=Product(num,pname)\n",
    "    print(p.num)\n",
    "    pList=get_list()\n",
    "    idx=pList.index(p)\n",
    "    del pList[idx] #pList.remove(p)\n",
    "    overwrite(pList)\n",
    "    print('삭제 성공')"
   ]
  },
  {
   "cell_type": "code",
   "execution_count": 13,
   "id": "d8c31b0a",
   "metadata": {},
   "outputs": [
    {
     "name": "stdout",
     "output_type": "stream",
     "text": [
      "상품 관리 시스템\n",
      "목록(s), 검색(f), 추가(a), 수정(u), 삭제(d), 종료(x):d\n",
      "삭제대상 번호 상품명3 cleat\n",
      "3\n",
      "파일에 저장성공\n",
      "파일에 저장성공\n",
      "삭제 성공\n",
      "목록(s), 검색(f), 추가(a), 수정(u), 삭제(d), 종료(x):s\n",
      "1 football 150 wilson 2022\n",
      "2 headgear 200 schott 2022\n",
      "목록(s), 검색(f), 추가(a), 수정(u), 삭제(d), 종료(x):u\n",
      "변경대상 번호 상품명1 football\n",
      "새 가격:180\n",
      "파일에 저장성공\n",
      "파일에 저장성공\n",
      "파일변경 성공\n",
      "목록(s), 검색(f), 추가(a), 수정(u), 삭제(d), 종료(x):s\n",
      "1 football 180 wilson 2022\n",
      "2 headgear 200 schott 2022\n",
      "목록(s), 검색(f), 추가(a), 수정(u), 삭제(d), 종료(x):x\n",
      "프로그램 종료...\n"
     ]
    }
   ],
   "source": [
    "print('상품 관리 시스템')\n",
    "while True:\n",
    "    menu = input('목록(s), 검색(f), 추가(a), 수정(u), 삭제(d), 종료(x):')\n",
    "    if menu=='s':\n",
    "        print_list(get_list())\n",
    "    elif menu=='f':\n",
    "        print_product(find())\n",
    "    elif menu=='a':\n",
    "        addProduct()\n",
    "    elif menu=='u':\n",
    "        update()\n",
    "    elif menu=='d':\n",
    "        delete()\n",
    "    elif menu=='x':\n",
    "        break\n",
    "    else:\n",
    "        print('잘못된 메뉴입력')\n",
    "print('프로그램 종료...')\n",
    "    "
   ]
  }
 ],
 "metadata": {
  "kernelspec": {
   "display_name": "Python 3 (ipykernel)",
   "language": "python",
   "name": "python3"
  },
  "language_info": {
   "codemirror_mode": {
    "name": "ipython",
    "version": 3
   },
   "file_extension": ".py",
   "mimetype": "text/x-python",
   "name": "python",
   "nbconvert_exporter": "python",
   "pygments_lexer": "ipython3",
   "version": "3.8.9"
  }
 },
 "nbformat": 4,
 "nbformat_minor": 5
}
