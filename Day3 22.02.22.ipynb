{
 "cells": [
  {
   "cell_type": "code",
   "execution_count": null,
   "id": "61c51994",
   "metadata": {},
   "outputs": [],
   "source": [
    "nums=[]\n",
    "nums.append(1)\n",
    "nums # [1]\n",
    "nums=[1,2,3,4,5]\n",
    "nums # [1,2,3,4,5]\n",
    "nums.reverse() # 실행시 아무것도 나오지 않는다.메소드 리턴값이 없다.\n",
    "n1 = nums.reverse() # 담을수 없다\n",
    "n1 # None return None=null\n",
    "# reverse() 는 원본으로 다시 저장\n",
    "nums # [1,2,3,4,5]\n",
    "nums.reverse()\n",
    "nums # [5,4,34,2,1]\n",
    "\n",
    "# 리스트의 원본을 보존하고 사본을 생성해서 훼손을 허용하는 경우\n",
    "# 얕은 복사(Shallow Copy)\n",
    "nums2 = nums #참조 복사이므로 reverse()하면 데이터가 뒤집어짐\n",
    "nums2 # [5,4,34,2,1]\n",
    "\n",
    "nums2.reverse()\n",
    "nums2 # [1,2,3,4,5]\n",
    "nums # [1,2,3,4,5]\n",
    "# 깊은 복사(Deep Copy)\n",
    "nums # [1,2,3,4,5]\n",
    "num3=nums.copy()\n",
    "num3 # [1,2,3,4,5]\n",
    "num3.reverse()\n",
    "num3 # [5,4,3,2,1] 사본만 조작됨\n",
    "nums # [1,2,3,4,5] 원본은 영향 없음"
   ]
  },
  {
   "cell_type": "code",
   "execution_count": null,
   "id": "f88bf902",
   "metadata": {},
   "outputs": [],
   "source": [
    "num = [1,2,3,4,5]\n",
    "i=num.index((2)) # 2 value를 이용 index를 찾는다.\n",
    "num[i] # 2\n",
    "6 in num # False\n",
    "3 in num # Trur\n",
    "\n",
    "num.index(1) # 0\n",
    "\n",
    "try:\n",
    "    num.index(10) # err 없으면 에러가 뜬다. ValueError 에외처리 필요\n",
    "except ValueError as ve: # as ve <- 에러 메세지가 담긴다!\n",
    "    print(\"해당항목은 데이터에 존재하지 않슴니다 err:\",ve)"
   ]
  },
  {
   "cell_type": "code",
   "execution_count": null,
   "id": "ceb45b8a",
   "metadata": {},
   "outputs": [],
   "source": [
    "# C : append()\n",
    "# R : num[0]\n",
    "# U : num[0]=10\n",
    "# D : num.remove(10)m del num[0]\n",
    "# F : num.index(10), 10 in num\n"
   ]
  },
  {
   "cell_type": "code",
   "execution_count": null,
   "id": "032ac70c",
   "metadata": {},
   "outputs": [],
   "source": [
    "# 리스트에 Friend 오브젝트를 5개 저장\n",
    "# 특정 친구 정보를 찾는 기능을 작성해 보세요\n",
    "# 이름, 전화, 이메일"
   ]
  },
  {
   "cell_type": "code",
   "execution_count": 1,
   "id": "589a557f",
   "metadata": {},
   "outputs": [],
   "source": [
    "class Friend:\n",
    "    def __init__(self,name,phone,email):\n",
    "        self.name=name\n",
    "        self.phone=phone\n",
    "        self.email=email\n",
    "    def __str__(self):\n",
    "        return f'{self.name}\\t{self.phone}\\t{self.email}'\n",
    "        \n",
    "    def __eq__(self,inputBuddy):\n",
    "        return (self.name==inputBuddy)"
   ]
  },
  {
   "cell_type": "code",
   "execution_count": null,
   "id": "7f787e50",
   "metadata": {},
   "outputs": [],
   "source": [
    "friendList=[]"
   ]
  },
  {
   "cell_type": "code",
   "execution_count": null,
   "id": "1d1efe3b",
   "metadata": {},
   "outputs": [],
   "source": [
    "def add():\n",
    "    buddyInfo=input('이름 전화번호 이메일:')\n",
    "    [name,phone,email]=buddyInfo.split()\n",
    "    newBuddy=Friend(name,phone,email)\n",
    "    friendList.append(newBuddy)\n",
    "    print(\"친구 하나를 획득했습니다^^...\")\n",
    "\n",
    "def find():\n",
    "    keyName=input(\"정보를 찾을 친구의 이름 입력\")\n",
    "    for b in friendList:\n",
    "        if b.__eq__(keyName):\n",
    "            print(b.name,b.phone,b.email)"
   ]
  },
  {
   "cell_type": "code",
   "execution_count": null,
   "id": "4eb90884",
   "metadata": {},
   "outputs": [],
   "source": [
    "while True:\n",
    "    cmd=input('메뉴 선택: 추가(a),찾기(f) 종료(x)')\n",
    "    if cmd=='a':\n",
    "        add()\n",
    "    if cmd=='f':\n",
    "        find()\n",
    "    if cmd=='x':\n",
    "        break\n",
    "        \n",
    "print(\"프로그램 종료\")"
   ]
  },
  {
   "cell_type": "code",
   "execution_count": null,
   "id": "677fbf33",
   "metadata": {},
   "outputs": [],
   "source": [
    "class Friend:\n",
    "    def __init__(self,name,phone,email=None):\n",
    "        self.name=name\n",
    "        self.phone=phone\n",
    "        self.email=email\n",
    "        \n",
    "    def __str__(self):\n",
    "        return f'{self.name}\\t{self.phone}\\t{self.email}'\n",
    "        \n",
    "    def __eq__(self,other):\n",
    "        if (self.name==other.name)and(self.phone==other.phone):\n",
    "            return True\n",
    "        else:\n",
    "            return False"
   ]
  },
  {
   "cell_type": "code",
   "execution_count": null,
   "id": "cd8dbf1a",
   "metadata": {},
   "outputs": [],
   "source": [
    "frList=[]\n",
    "frList.append(Friend('Oracle','333','oracle@matrix.com'))\n",
    "frList.append(Friend('Neo','333','neo@matrix.com'))\n",
    "frList.append(Friend('Trinity','333','trinity@matrix.com'))\n",
    "frList.append(Friend('Morpheus','333','morpheus@matrix.com'))\n",
    "frList.append(Friend('Niobe','333','niobe@matrix.com'))"
   ]
  },
  {
   "cell_type": "code",
   "execution_count": null,
   "id": "99b91397",
   "metadata": {},
   "outputs": [],
   "source": [
    "neo = Friend('Neo','333')\n",
    "frList.index(neo) # 1"
   ]
  },
  {
   "cell_type": "code",
   "execution_count": null,
   "id": "5f4b78bf",
   "metadata": {},
   "outputs": [],
   "source": [
    "neo in frList # True"
   ]
  },
  {
   "cell_type": "code",
   "execution_count": null,
   "id": "a161c49a",
   "metadata": {},
   "outputs": [],
   "source": [
    "frList[0].__str__() # Smith\t010\t@\n",
    "print(frList[0])\n",
    "frList[0:3]\n"
   ]
  },
  {
   "cell_type": "code",
   "execution_count": null,
   "id": "933cd988",
   "metadata": {},
   "outputs": [],
   "source": [
    "# Tuple\n",
    "# 리스트의 특징을 가지고 있ㄴ음\n",
    "# 값에 대한 수정/삭제 안됨"
   ]
  },
  {
   "cell_type": "code",
   "execution_count": null,
   "id": "e82c807a",
   "metadata": {},
   "outputs": [],
   "source": [
    "numList=[1,2,3]\n",
    "numTuple=(1,2,3)\n",
    "\n",
    "print(numTuple, numList)\n",
    "\n",
    "numList[0]=5\n",
    "numList # [5,2,3]\n",
    "\n",
    "numTuple[0]=5 # 값 재할당 불가"
   ]
  },
  {
   "cell_type": "code",
   "execution_count": null,
   "id": "64fc788c",
   "metadata": {},
   "outputs": [],
   "source": [
    "t=() # 빈 tuple\n",
    "type(t) #  tuple\n",
    "t = (1)\n",
    "type(t) # int\n",
    "\n",
    "t = (1,)\n",
    "type(t) # tuple\n",
    "\n",
    "t=(1,2,3)\n",
    "t=1,2,3\n",
    "type(t)\n",
    "\n",
    "t1=1,2,3\n",
    "t2=4,5\n",
    "t3=t1+t2\n",
    "len(t3) # 5\n",
    "t3[0] # 1"
   ]
  },
  {
   "cell_type": "code",
   "execution_count": null,
   "id": "bb5df780",
   "metadata": {},
   "outputs": [],
   "source": [
    "# Set : 집합, 원소가 번호로 관리되는 자료구조가 아님\n",
    "# 데이터 중복저장 불가"
   ]
  },
  {
   "cell_type": "code",
   "execution_count": null,
   "id": "8f73ab54",
   "metadata": {
    "scrolled": true
   },
   "outputs": [],
   "source": [
    "num_set={1,2,3,3,3}\n",
    "num_set # {1,2,3}\n",
    "num_set.add(4) # 리스트 안됨\n",
    "num_set # {1,2,3,4}\n",
    "num_set.update([3,4,5,6]) # 리스트 가능\n",
    "num_set"
   ]
  },
  {
   "cell_type": "code",
   "execution_count": null,
   "id": "b59e375d",
   "metadata": {},
   "outputs": [],
   "source": [
    "# 중복되지 않도록 1~20 정수 10개르 추출해보세요\n",
    "import random as r\n",
    "setNums=set()\n",
    "for i in range(10):\n",
    "    no=r.randint(1,21)\n",
    "    setNums.add(no)\n",
    "\n",
    "while True:\n",
    "    no=r.randint(1,21)\n",
    "    setNums.add(no)\n",
    "    if len(setNums)==10:\n",
    "        break\n",
    "\n",
    "setNums\n",
    "        \n",
    "numSet=set()\n",
    "while len(numSet)<10:\n",
    "    numSet.add(r.randrange(1,21))\n",
    "    \n",
    "numSet\n"
   ]
  },
  {
   "cell_type": "code",
   "execution_count": null,
   "id": "5811c0cd",
   "metadata": {},
   "outputs": [],
   "source": [
    "# Dictionaty {key:value, key:value, .....}\n",
    "emp={'num':11,'name':'Scott'}\n",
    "emp['phone'] = '213.777.1234' # 동적 데이터 추가\n",
    "emp"
   ]
  },
  {
   "cell_type": "code",
   "execution_count": null,
   "id": "f9553eec",
   "metadata": {},
   "outputs": [],
   "source": [
    "'num' in emp\n",
    "emp['num'] #11\n",
    "emp['num']=12\n",
    "emp"
   ]
  },
  {
   "cell_type": "code",
   "execution_count": null,
   "id": "02e9e5ff",
   "metadata": {},
   "outputs": [],
   "source": [
    "emp.get('num') #12"
   ]
  },
  {
   "cell_type": "code",
   "execution_count": null,
   "id": "0b19eb76",
   "metadata": {},
   "outputs": [],
   "source": [
    "emp['email'] # 해당키가 없으면 keyError"
   ]
  },
  {
   "cell_type": "code",
   "execution_count": null,
   "id": "9486b84d",
   "metadata": {},
   "outputs": [],
   "source": [
    "emp.get('email') # 해당 키가 없어도 에러는 발생치 않음\n",
    "# return 없음 None\n",
    "emp.get('email','해당키는 없습니다')"
   ]
  },
  {
   "cell_type": "code",
   "execution_count": null,
   "id": "6be26027",
   "metadata": {},
   "outputs": [],
   "source": [
    "emp['num']=15\n",
    "emp"
   ]
  },
  {
   "cell_type": "code",
   "execution_count": null,
   "id": "d6de80ab",
   "metadata": {},
   "outputs": [],
   "source": [
    "emp.update({'num':20})\n",
    "emp"
   ]
  },
  {
   "cell_type": "code",
   "execution_count": null,
   "id": "c81144b0",
   "metadata": {},
   "outputs": [],
   "source": [
    "emp.keys() # 모든 키 추출"
   ]
  },
  {
   "cell_type": "code",
   "execution_count": null,
   "id": "d95038ad",
   "metadata": {},
   "outputs": [],
   "source": [
    "for key in emp.keys():\n",
    "    print(emp[key])"
   ]
  },
  {
   "cell_type": "code",
   "execution_count": null,
   "id": "127098b7",
   "metadata": {},
   "outputs": [],
   "source": [
    "emp.values()"
   ]
  },
  {
   "cell_type": "code",
   "execution_count": null,
   "id": "ee36ed62",
   "metadata": {},
   "outputs": [],
   "source": [
    "emp.items() # tuple return"
   ]
  },
  {
   "cell_type": "code",
   "execution_count": null,
   "id": "46ba6f19",
   "metadata": {},
   "outputs": [],
   "source": [
    "for item in emp.items():\n",
    "    print(item)\n",
    "    \n",
    "for k,v in emp.items():\n",
    "    print(k,v)"
   ]
  },
  {
   "cell_type": "markdown",
   "id": "e72de530",
   "metadata": {},
   "source": [
    "# Dictionary 루핑 방법\n",
    "* for key in dic:\n",
    "* for key in dic.keys():\n",
    "* for key in dic.values():\n",
    "* for key in dic.items(): tuple return\n",
    "* for (k,v) in dic.items():\n",
    "* for k,v in dic.items():"
   ]
  },
  {
   "cell_type": "code",
   "execution_count": null,
   "id": "feab04c1",
   "metadata": {},
   "outputs": [],
   "source": [
    "emp.pop('phone') # 키를 이용한 아이템 삭제\n",
    "emp.popitem() # 마지막 아이템 삭제\n",
    "emp"
   ]
  },
  {
   "cell_type": "code",
   "execution_count": null,
   "id": "66e0404b",
   "metadata": {},
   "outputs": [],
   "source": [
    "# 추가\n",
    "emp['name']='King' # 없으면 추가 있으면 수정\n",
    "emp.update({'phone':'213-777-7777'}) # 없으면 추가 있으면 수정ㅠ\n",
    "emp"
   ]
  },
  {
   "cell_type": "code",
   "execution_count": null,
   "id": "d1a28a13",
   "metadata": {},
   "outputs": [],
   "source": [
    "# 값 출력 (읽어오기)\n",
    "emp['num'] # 20\n",
    "emp.keys()\n",
    "emp.values()\n",
    "emp.get('num')\n",
    "emp.items()\n",
    "emp.copy()"
   ]
  },
  {
   "cell_type": "code",
   "execution_count": null,
   "id": "dbfc0473",
   "metadata": {},
   "outputs": [],
   "source": [
    "# 삭제\n",
    "# emp.clear() # 모든 값 삭제\n",
    "# emp.pop('num') # 키로 지정된 값이 삭제됨\n",
    "# emp.popitem() # 맨 뒤의 값 삭제\n",
    "# del emp['emp']"
   ]
  },
  {
   "cell_type": "code",
   "execution_count": null,
   "id": "b28fc4f5",
   "metadata": {},
   "outputs": [],
   "source": [
    "# 키보드에서 번호 이름을 입력 받고\n",
    "# Dictionary 에 저장하여 여러 멤버의 정보를 리스트에 저장한다\n",
    "# 데이터가 채워진 리스트로부터 특정 멤버 정보를 검색하여 화면에 표시한다\n",
    "# dic={} 매번 만들어 줘야지 override 되지 않고 add 된다!\n",
    "list=[]\n",
    "while True:\n",
    "    kbd = input('번호: 이름: (검색:f, 종료:x)')\n",
    "    if kbd=='x':\n",
    "        break\n",
    "    if kbd=='f':\n",
    "        keyName=input('검색할 회원명:')\n",
    "        for mem in list:\n",
    "            if keyName==mem['name']:\n",
    "                print(mem)\n",
    "    else:\n",
    "        dic={}\n",
    "        [num,name]=kbd.split()\n",
    "        dic.update({'num':num,'name':name})\n",
    "        print(dic,\"추가 합니다.\")\n",
    "        list.append(dic)\n",
    "  "
   ]
  },
  {
   "cell_type": "code",
   "execution_count": null,
   "id": "dc5d4265",
   "metadata": {},
   "outputs": [],
   "source": [
    "memList=[]\n",
    "while len(memList)<5:\n",
    "    indata=input('번호 이름:')\n",
    "    [num,name]=indata.split()\n",
    "    mem_dic={}\n",
    "    mem_dic['num']=num\n",
    "    mem_dic['name']=name\n",
    "    memList.append(mem_dic)\n",
    "    \n",
    "memList\n",
    "\n",
    "keyword=input('검색 번호 이름:')\n",
    "[num,name]=keyword.split()\n",
    "\n",
    "for dic in memList:\n",
    "    if (dic['num']==num)and(dic['name']==name):\n",
    "        print(dic)"
   ]
  },
  {
   "cell_type": "code",
   "execution_count": null,
   "id": "a7629f34",
   "metadata": {},
   "outputs": [],
   "source": [
    "# List, Tuple, Set, Dictionary\n",
    "# 키보드에서 입력된 번호, 이름을 딕셔너리 형태로 리턴하는 함수 작성"
   ]
  },
  {
   "cell_type": "code",
   "execution_count": null,
   "id": "6fad1257",
   "metadata": {},
   "outputs": [],
   "source": [
    "def fstr():\n",
    "    kbd=input(\"번호: 이름:\")\n",
    "    num,name=kbd.split()\n",
    "    return {'num':num,'name':name}"
   ]
  },
  {
   "cell_type": "code",
   "execution_count": null,
   "id": "eaeb84f9",
   "metadata": {},
   "outputs": [],
   "source": [
    "# 번호 이름을 저장한 딕셔너리를 파라미터로 받아서 리스트에 저장해주는 함수 작성\n",
    "# Mem  객체로 변환하여 리스트에 저장\n",
    "# 3인 정보를 저장한 후에 리스트에 저장된 데이터를 화면에 표시\n",
    "\n",
    "class Member():\n",
    "    def __init__(self,num,name):\n",
    "        self.num=num\n",
    "        self.name=name\n",
    "    \n",
    "\n",
    "memList = []\n",
    "\n",
    "def addMem(memDic={}):\n",
    "    num=memDic['num']\n",
    "    name=memDic['name']\n",
    "    inputMem=Member(num,name)\n",
    "    memList.append(memDic)\n",
    "    print('저장완료')\n",
    "    \n",
    "def printMem():\n",
    "    for mem in memList:\n",
    "        print(mem)"
   ]
  },
  {
   "cell_type": "code",
   "execution_count": null,
   "id": "c0bb6d50",
   "metadata": {},
   "outputs": [],
   "source": [
    "addMem(fstr())"
   ]
  },
  {
   "cell_type": "code",
   "execution_count": null,
   "id": "6db40a64",
   "metadata": {},
   "outputs": [],
   "source": [
    "printMem()"
   ]
  },
  {
   "cell_type": "code",
   "execution_count": null,
   "id": "76424fe5",
   "metadata": {},
   "outputs": [],
   "source": [
    "memList=[]\n",
    "#def addMem(memDic={}):#memDic 자료형을 Dictoinary 명시\n",
    "    # Mem 객체 생성 Mem(memDic['mem'],memDic['name'])\n",
    "    # memList.append()"
   ]
  },
  {
   "cell_type": "code",
   "execution_count": null,
   "id": "ab2a42b7",
   "metadata": {},
   "outputs": [],
   "source": [
    "memberList=[]"
   ]
  },
  {
   "cell_type": "code",
   "execution_count": null,
   "id": "a16e24a3",
   "metadata": {},
   "outputs": [],
   "source": [
    "class Mem:\n",
    "    def __init__(self,num,name):\n",
    "        self.num=num\n",
    "        self.name=name\n",
    "    def __str__(self):\n",
    "        return f'{self.num}\\t{self.name}'"
   ]
  },
  {
   "cell_type": "code",
   "execution_count": null,
   "id": "1da08437",
   "metadata": {},
   "outputs": [],
   "source": [
    "def addMem(memDic={}): # 자료형이 Dictonary가 아니면 ERROR\n",
    "    mem=Mem(memDic['num'],memDic['name'])\n",
    "    memberList.append(mem)"
   ]
  },
  {
   "cell_type": "code",
   "execution_count": null,
   "id": "6a780b44",
   "metadata": {},
   "outputs": [],
   "source": [
    "addMem({'num':11,'name':'Scott'})\n",
    "addMem({'num':12,'name':'Blake'})\n",
    "addMem({'num':13,'name':'Jone'})"
   ]
  },
  {
   "cell_type": "code",
   "execution_count": null,
   "id": "095dad9f",
   "metadata": {},
   "outputs": [],
   "source": [
    "for m in memberList:\n",
    "    print(m)"
   ]
  },
  {
   "cell_type": "code",
   "execution_count": null,
   "id": "bde95319",
   "metadata": {},
   "outputs": [],
   "source": [
    "# mthod(1,2,3,4)\n",
    "# mthod(1)\n",
    "# mthod(1,2,3,4,5,6,7)\n",
    "# 임의의 갯수의 아규먼트를 받을 수 있는 홤수 선언\n",
    "ㅠdef addData(*data): #*data -> 데이터가 몇개가 오던지 Tuple로 받는다\n",
    "    print(data)\n",
    "    \n",
    "addData(1)\n",
    "addData(1,2,3,4)"
   ]
  },
  {
   "cell_type": "code",
   "execution_count": null,
   "id": "a459ed20",
   "metadata": {},
   "outputs": [],
   "source": [
    "test={'mems':['smith','ward','king']}\n",
    "test['mems']"
   ]
  },
  {
   "cell_type": "code",
   "execution_count": null,
   "id": "ca0e2f34",
   "metadata": {},
   "outputs": [],
   "source": [
    "def saveData(**data):\n",
    "    print(data)\n",
    "    \n",
    "saveData(num=10)\n",
    "saveData(num=5,name='Peter')"
   ]
  },
  {
   "cell_type": "code",
   "execution_count": null,
   "id": "78e709dc",
   "metadata": {},
   "outputs": [],
   "source": [
    "numList=[4,5,1,3,2]\n",
    "print(numList)"
   ]
  },
  {
   "cell_type": "code",
   "execution_count": null,
   "id": "3fa35856",
   "metadata": {},
   "outputs": [],
   "source": [
    "numList.sort() # 오름차순 정렬\n",
    "numList"
   ]
  },
  {
   "cell_type": "code",
   "execution_count": null,
   "id": "f4cd5629",
   "metadata": {},
   "outputs": [],
   "source": [
    "# 무작위 수 10개를 추출하여 정렬해보세요\n",
    "import random as r\n",
    "numberList=[]\n",
    "while len(numberList)<10:\n",
    "    num=r.randrange(0,99)\n",
    "    numberList.append(num)\n",
    "    numberList.sort()\n",
    "    \n",
    "numberList"
   ]
  },
  {
   "cell_type": "code",
   "execution_count": 6,
   "id": "3eeacf83",
   "metadata": {},
   "outputs": [
    {
     "data": {
      "text/plain": [
       "[2, 11, 8, 15, 1, 14, 7, 1, 12, 1]"
      ]
     },
     "execution_count": 6,
     "metadata": {},
     "output_type": "execute_result"
    }
   ],
   "source": [
    "import random\n",
    "numList=[]\n",
    "for i in range(10):\n",
    "    numList.append(random.randrange(0,20))\n",
    "numList"
   ]
  },
  {
   "cell_type": "code",
   "execution_count": 7,
   "id": "2cb416b4",
   "metadata": {},
   "outputs": [
    {
     "data": {
      "text/plain": [
       "[1, 1, 1, 2, 7, 8, 11, 12, 14, 15]"
      ]
     },
     "execution_count": 7,
     "metadata": {},
     "output_type": "execute_result"
    }
   ],
   "source": [
    "numList.sort()\n",
    "numList"
   ]
  },
  {
   "cell_type": "code",
   "execution_count": null,
   "id": "b003b296",
   "metadata": {},
   "outputs": [],
   "source": [
    "# Mem 객테를 다수개 저장한 리스트를 정렬하려고 안다면?\n",
    "#memList.sort(key=lambda m: m.num)\n",
    "memList=[]\n",
    "memList.append(Mem(11,\"Neo\"))\n",
    "memList.append(Mem(12,\"Morpheus\"))\n",
    "memList.append(Mem(13,\"Trinity\"))"
   ]
  },
  {
   "cell_type": "code",
   "execution_count": null,
   "id": "da84807c",
   "metadata": {},
   "outputs": [],
   "source": [
    "for m in memList:\n",
    "    print(m)"
   ]
  },
  {
   "cell_type": "code",
   "execution_count": null,
   "id": "bcbb3e0e",
   "metadata": {},
   "outputs": [],
   "source": [
    "memList.sort(key=lambda m: m.name) #이름으로 정렬\n",
    "for m in memList:\n",
    "    print(m)"
   ]
  },
  {
   "cell_type": "code",
   "execution_count": 3,
   "id": "19828be5",
   "metadata": {},
   "outputs": [],
   "source": [
    "# Friend 객체를 5개 저장한 리스트를 생성하고\n",
    "# 전화번호 순으로 정렬해 보세요\n",
    "friendList=[]\n",
    "friendList.append(Friend(\"yona\",\"010-9570-xxxx\",\"yona_sep21@gmail.com\"))\n",
    "friendList.append(Friend(\"huhu\",\"010-2222-2222\",\"huhu@gmail.com\"))\n",
    "friendList.append(Friend(\"shine\",\"010-3333-3333\",\"shine@gmail.com\"))\n",
    "friendList.append(Friend(\"neo\",\"213-909-0001\",\"neo@matrix.com\"))\n",
    "friendList.append(Friend(\"trinity\",\"213-909-0003\",\"trinity@matrix.com\"))"
   ]
  },
  {
   "cell_type": "code",
   "execution_count": 4,
   "id": "7b418d24",
   "metadata": {},
   "outputs": [
    {
     "name": "stdout",
     "output_type": "stream",
     "text": [
      "huhu\t010-2222-2222\thuhu@gmail.com\n",
      "shine\t010-3333-3333\tshine@gmail.com\n",
      "yona\t010-9570-xxxx\tyona_sep21@gmail.com\n",
      "neo\t213-909-0001\tneo@matrix.com\n",
      "trinity\t213-909-0003\ttrinity@matrix.com\n"
     ]
    }
   ],
   "source": [
    "friendList.sort(key=lambda f: f.phone)\n",
    "for f in friendList:\n",
    "    # print(f'{f.name}\\t{f.phone}\\t{f.email}\\t') 클래스의 __str__(toString)\n",
    "    print(f)"
   ]
  },
  {
   "cell_type": "code",
   "execution_count": 22,
   "id": "2a3ef612",
   "metadata": {},
   "outputs": [],
   "source": [
    "# 클래스 멤버, 인스턴스 멤버\n",
    "class Product:\n",
    "    company=\"오성그룹\" # 클래스 변수\n",
    "    def __init__(self,num,name,price):\n",
    "        self.num=num\n",
    "        self.name=name\n",
    "        self.price=price\n",
    "        \n",
    "    def __str__(self):\n",
    "        return f'{self.num}\\t{self.name}\\t{self.price}'\n",
    "    \n",
    "    @classmethod   # 클래스 변수를 대상으로 로직 수행\n",
    "    def printCom(cls):\n",
    "        #print(cls.company)\n",
    "        print(Product.company)\n",
    "        \n",
    "    @staticmethod # 클레스 변수에 접근 불가, 주로 파라미터를 받아서 처리\n",
    "    def util(data):\n",
    "        print(data)"
   ]
  },
  {
   "cell_type": "code",
   "execution_count": 23,
   "id": "7bc1d1de",
   "metadata": {},
   "outputs": [
    {
     "name": "stdout",
     "output_type": "stream",
     "text": [
      "101\tGalaxy2000\t30\n",
      "오성그룹\n",
      "스테틱\n"
     ]
    }
   ],
   "source": [
    "p1=Product(101,'Galaxy2000',30)\n",
    "p2=Product(102,'Apple9499',333)\n",
    "print(p1)\n",
    "Product.printCom()\n",
    "Product.util('스테틱')"
   ]
  },
  {
   "cell_type": "code",
   "execution_count": 13,
   "id": "eeeaaaf1",
   "metadata": {},
   "outputs": [
    {
     "ename": "AttributeError",
     "evalue": "type object 'Product' has no attribute 'name'",
     "output_type": "error",
     "traceback": [
      "\u001b[0;31m---------------------------------------------------------------------------\u001b[0m",
      "\u001b[0;31mAttributeError\u001b[0m                            Traceback (most recent call last)",
      "Input \u001b[0;32mIn [13]\u001b[0m, in \u001b[0;36m<module>\u001b[0;34m\u001b[0m\n\u001b[1;32m      1\u001b[0m Product\u001b[38;5;241m.\u001b[39mcompany\n\u001b[0;32m----> 2\u001b[0m \u001b[43mProduct\u001b[49m\u001b[38;5;241;43m.\u001b[39;49m\u001b[43mname\u001b[49m\n",
      "\u001b[0;31mAttributeError\u001b[0m: type object 'Product' has no attribute 'name'"
     ]
    }
   ],
   "source": [
    "Product.company\n",
    "Product.name"
   ]
  },
  {
   "cell_type": "code",
   "execution_count": null,
   "id": "72892ba1",
   "metadata": {},
   "outputs": [],
   "source": [
    "class ChildCls(ParentCls):\n",
    "    def __init__(self):\n",
    "        super().__init__(param1,param2)"
   ]
  },
  {
   "cell_type": "code",
   "execution_count": 27,
   "id": "4f1156b3",
   "metadata": {},
   "outputs": [
    {
     "name": "stdout",
     "output_type": "stream",
     "text": [
      "This is test file.\n",
      "테스트 파일입니다.\n"
     ]
    }
   ],
   "source": [
    "#파일 다루기\n",
    "file=open(\"/Users/lucas/test/sample.txt\",'r') #'r' -> mode=read\n",
    "data=file.read()\n",
    "print(data)\n",
    "file.close()"
   ]
  },
  {
   "cell_type": "code",
   "execution_count": 29,
   "id": "068eee49",
   "metadata": {},
   "outputs": [
    {
     "name": "stdout",
     "output_type": "stream",
     "text": [
      "This is test file.\n",
      "테스트 파일입니다.\n"
     ]
    }
   ],
   "source": [
    "#with 블럭을 벗어나면 자동으로 close()됨\n",
    "with open(\"/Users/lucas/test/sample.txt\",'r') as file:\n",
    "    data=file.read()# 데이터 전체를 읽어 옴\n",
    "    print(data)"
   ]
  }
 ],
 "metadata": {
  "kernelspec": {
   "display_name": "Python 3 (ipykernel)",
   "language": "python",
   "name": "python3"
  },
  "language_info": {
   "codemirror_mode": {
    "name": "ipython",
    "version": 3
   },
   "file_extension": ".py",
   "mimetype": "text/x-python",
   "name": "python",
   "nbconvert_exporter": "python",
   "pygments_lexer": "ipython3",
   "version": "3.8.9"
  }
 },
 "nbformat": 4,
 "nbformat_minor": 5
}
