{
 "cells": [
  {
   "cell_type": "code",
   "execution_count": null,
   "id": "3d8801e1",
   "metadata": {},
   "outputs": [],
   "source": [
    "a=0\n",
    "a\n",
    "b=2\n",
    "b\n",
    "print(a)\n",
    "print(b)\n",
    "#정수형  실수형  불리언 문자열\n",
    "a=0\n",
    "b=3.14\n",
    "bool = True\n",
    "s = \"문자열\"\n",
    "s = '문자열'\n",
    "s = \"\"\"\n",
    "    a\n",
    "    b\n",
    "    c\n",
    "\"\"\"\n",
    "# 다중행 주석처리가 없으므로 \"\"\"을 활용한다.\n",
    "\"\"\"\n",
    "print(s)\n",
    "a=2\n",
    "print(a)\n",
    "pi = 3.14\n",
    "\"\"\""
   ]
  },
  {
   "cell_type": "code",
   "execution_count": null,
   "id": "11c30961",
   "metadata": {},
   "outputs": [],
   "source": [
    "if 1<2:\n",
    "    print(\"참\")"
   ]
  },
  {
   "cell_type": "code",
   "execution_count": null,
   "id": "519c0b69",
   "metadata": {},
   "outputs": [],
   "source": [
    "nums=[3,5,7]\n",
    "for n in nums:\n",
    "    print(n)"
   ]
  },
  {
   "cell_type": "code",
   "execution_count": null,
   "id": "a19c4472",
   "metadata": {},
   "outputs": [],
   "source": [
    "for i in range(5):\n",
    "    print(\"range() object를 이용한 for loop\",i)"
   ]
  },
  {
   "cell_type": "code",
   "execution_count": null,
   "id": "3ed4117a",
   "metadata": {},
   "outputs": [],
   "source": [
    "cnt=3\n",
    "v=0\n",
    "while v<cnt:\n",
    "    print(v)\n",
    "    v+=1"
   ]
  },
  {
   "cell_type": "code",
   "execution_count": null,
   "id": "ae1fa9af",
   "metadata": {},
   "outputs": [],
   "source": [
    "s=\"abcd1234\"\n",
    "#문자열의 길이\n",
    "len(s)\n",
    "#n번째 글자\n",
    "s2=str(1)\n",
    "s2\n",
    "#자료형 확인\n",
    "type(s2)"
   ]
  },
  {
   "cell_type": "code",
   "execution_count": null,
   "id": "8fa50735",
   "metadata": {},
   "outputs": [],
   "source": [
    "#<shift><tab> 정보확인\n",
    "s."
   ]
  },
  {
   "cell_type": "code",
   "execution_count": null,
   "id": "6605be62",
   "metadata": {},
   "outputs": [],
   "source": [
    "#정보확인 함수 가지고 있는 메소드를 확인할수 있다\n",
    "dir(s)\n",
    "s.__eq__('hello')\n",
    "#클레스 정보 확인\n",
    "help(str)"
   ]
  },
  {
   "cell_type": "code",
   "execution_count": null,
   "id": "f6815a0f",
   "metadata": {},
   "outputs": [],
   "source": [
    "#키보드 입력된 문자열을 화면에 표시할때 한행에 한문자를 표시하여라\n",
    "kbd = input(\"입력\")\n",
    "for i in range(len(kbd)):\n",
    "    print(kbd[i])"
   ]
  },
  {
   "cell_type": "code",
   "execution_count": null,
   "id": "cc7b397a",
   "metadata": {},
   "outputs": [],
   "source": [
    "# List\n",
    "#Create\n",
    "nums = [1,2,3,4,5]\n",
    "type(nums)\n",
    "#Read\n",
    "print(nums[4])\n",
    "#Update\n",
    "nums[4]=7\n",
    "print(nums[4])\n",
    "#비교 compare\n",
    "nums[0]>nums[3] #Boolean return\n",
    "#list를 파라미터롤 사용하는 예 return 으로도 사용가능\n",
    "import random\n",
    "#무작위 선택\n",
    "random.choice(nums)\n",
    "#0~4 까지 렌덤 <shift><tab> 으로 확인가능\n",
    "random.randrange(0,5)\n",
    "random.randint(0,777)"
   ]
  },
  {
   "cell_type": "code",
   "execution_count": null,
   "id": "1c6c7e81",
   "metadata": {},
   "outputs": [],
   "source": [
    "# CRUD (append (), list[n], list[n]=f,\n",
    "# list.remove[n], list.pop()m list.pop[n], del list[0])\n",
    "names = [\"Neo\",\"Trinity\"]\n",
    "names\n",
    "names[0]\n",
    "\n",
    "#한 리스트에 여러자료형이 가능\n",
    "info = [\"a\",10]\n",
    "info"
   ]
  },
  {
   "cell_type": "code",
   "execution_count": null,
   "id": "4d0cef05",
   "metadata": {},
   "outputs": [],
   "source": [
    "#키보드에서 번호, 이름 전화, 이메일 정보를 입력받아서 리스트에 저장하는 기능\n",
    "# 이용자가 'x' 키를 누를 때까지 다수 회원정보를 리스트에 저장하고 \n",
    "# 'x' 키를 누르면 리스트에 저장된 모든 데이터 출력\n",
    "# 빈 리스트 a=[]\n",
    "memberList=[]\n",
    "while True:\n",
    "    num = input(\"번호\")\n",
    "    name = input(\"이름\")\n",
    "    phone = input(\"전화\")\n",
    "    email = input(\"email\")\n",
    "    member = [num,name,phone,email]\n",
    "    print(member,\"를 추가합니다.\")\n",
    "    memberList.append(member)\n",
    "    cmd=input(\"계속할까요? x를 누르면 종료 됩니다\")\n",
    "    if cmd==\"x\":\n",
    "        for i in range(len(memberList)):\n",
    "            print(member)\n",
    "        break   "
   ]
  },
  {
   "cell_type": "code",
   "execution_count": null,
   "id": "8a6e33d2",
   "metadata": {},
   "outputs": [],
   "source": [
    "mems=[]\n",
    "while True:\n",
    "    uinput= input('번호 이름 전화 이메일:')\n",
    "    if uiinput='x':\n",
    "        print('종료')\n",
    "        break\n",
    "    ulist=uinput.split()\n",
    "    mems.append(ulist)"
   ]
  },
  {
   "cell_type": "code",
   "execution_count": 1,
   "id": "28d8c7a9",
   "metadata": {},
   "outputs": [
    {
     "data": {
      "text/plain": [
       "'\\nm = Member(1,\"Neo\", \\'213-000-0001\\',\\'neo@matrix.com\\')\\nstrMem = m.__str__()\\nprint(strMem)\\nprint(m)\\nprint(m.phone)\\n'"
      ]
     },
     "execution_count": 1,
     "metadata": {},
     "output_type": "execute_result"
    }
   ],
   "source": [
    "class Member:\n",
    "    #초기자 init self=this\n",
    "    def __init__(self,num,name,phone,email):\n",
    "        self.num=num\n",
    "        self.name=name\n",
    "        self.phone=phone\n",
    "        self.email=email\n",
    "    #toSting\n",
    "    def __str__(self):\n",
    "        return f'{self.num}\\t{self.name}\\t{self.phone}\\t{self.email}'\n",
    "'''\n",
    "m = Member(1,\"Neo\", '213-000-0001','neo@matrix.com')\n",
    "strMem = m.__str__()\n",
    "print(strMem)\n",
    "print(m)\n",
    "print(m.phone)\n",
    "'''"
   ]
  },
  {
   "cell_type": "code",
   "execution_count": null,
   "id": "52d9070d",
   "metadata": {},
   "outputs": [],
   "source": [
    "#Member 클래스를 사용하여 위의 코드를 변경해보고 리스트에 저장된 모든 Memver정보를\n",
    "# 화면에 표시해 보세요\n",
    "mems=[]\n",
    "while True:\n",
    "    uinput=input('번호 이름 전화 이메일:')\n",
    "    if uinput=='x':\n",
    "        print('종료')\n",
    "        break\n",
    "    ulist=uinput.split()\n",
    "    mems.append(Member(ulist[0],ulist[1],ulist[2],ulist[3]))\n",
    "    \n",
    "for i in range(len(mems)):\n",
    "    print(mems[i])"
   ]
  },
  {
   "cell_type": "code",
   "execution_count": null,
   "id": "8103ada5",
   "metadata": {},
   "outputs": [],
   "source": [
    "testList=[11,\"oracle\",\"213.999.9999\",\"oracle@matrix.com\"]\n",
    "testList\n",
    "num=testList[0]\n",
    "email=testList[3]\n",
    "[num,name,phone,email]=testList\n",
    "print(num,email)"
   ]
  },
  {
   "cell_type": "code",
   "execution_count": null,
   "id": "4456fad8",
   "metadata": {},
   "outputs": [],
   "source": [
    "mems=[]\n",
    "while True:\n",
    "    uinput=input('번호 이름 전화 이메일:')\n",
    "    if uinput=='x':\n",
    "        print('종료')\n",
    "        break\n",
    "    [num,name,phone,email]=uinput.split()\n",
    "    mems.append(Member(num,name,phone,email))\n",
    "    \n",
    "for i in range(len(mems)):\n",
    "    print(mems[i])"
   ]
  },
  {
   "cell_type": "code",
   "execution_count": null,
   "id": "bc0bb107",
   "metadata": {},
   "outputs": [],
   "source": [
    "# 주사위 시뮬레이션 예재 작성\n",
    "# 주사위(Die) 2개를 굴려서(roll) 동시에 동일한 수가 나오는 확률을 표시한다.\n",
    "# 이용자에게 주사위를 몇회 굴릴것인지를 물어서\n",
    "# 총 시도 횟수에 대한 동일 수가 나오는 비율을 백분율로 표시해보세요\n",
    "import random\n",
    "class Dice:\n",
    "    def roll(self):\n",
    "        return random.randrange(1,7)\n",
    "\n",
    "dice1=Dice()\n",
    "dice2=Dice()\n",
    "cnt=int(input(\"주사위를 몇회 굴릴까요?:\"))\n",
    "matchCnt=0\n",
    "for _ in range(cnt):\n",
    "    if dice1.roll()==dice2.roll():\n",
    "        matchCnt+=1b\n",
    "        \n",
    "percentage=(matchCnt/cnt)*100\n",
    "f'주사위를 {cnt}번 굴려서 동일 수가 나온 경우 ={percentage}%'"
   ]
  },
  {
   "cell_type": "markdown",
   "id": "d76fb9e5",
   "metadata": {},
   "source": [
    "### list의 메소드들\n",
    "* 추가: list.append(value)\n",
    "* 삽입: list.insert(value, key)\n",
    "* 수정: list[key]=value\n",
    "* 제거: list.pop <-맨 뒤의 값 제거\n",
    "** list.pop(index) <-index로 지정한 원소 제거\n",
    "** list.remove(value) <- index로 지정한 값을 찾아 제거\n",
    "** del list[index] <- 지정한 값을 찾아 제거\n",
    "* list.reverse() <- 원소의 순서 뒤집기\n",
    "* list.sort() <- 오름차순으로 정렬"
   ]
  },
  {
   "cell_type": "code",
   "execution_count": 4,
   "id": "e0f184b7",
   "metadata": {},
   "outputs": [
    {
     "name": "stdout",
     "output_type": "stream",
     "text": [
      "메뉴를 선택하쇼\n",
      "목록(s), 추가(a), 검색(f), 수정(u), 삭제(d),종료(x) :ㅁ\n",
      "메뉴를 선택하쇼\n",
      "목록(s), 추가(a), 검색(f), 수정(u), 삭제(d),종료(x) :a\n",
      "번호 이름 전화 이메일1 neo 213 neo\n",
      "입력완료\n",
      "메뉴를 선택하쇼\n",
      "목록(s), 추가(a), 검색(f), 수정(u), 삭제(d),종료(x) :u\n",
      "수정할 회원의 이름을 입력하세요neo\n",
      "1\tneo\t213\tneo\n",
      "회원을 수정할까요 y/ny\n",
      "번호 이름 전화 이메일1 neo 213.000.0001 neo@matrix.com\n",
      "수정완료\n",
      "메뉴를 선택하쇼\n",
      "목록(s), 추가(a), 검색(f), 수정(u), 삭제(d),종료(x) :s\n",
      "1\tneo\t213.000.0001\tneo@matrix.com\n",
      "메뉴를 선택하쇼\n",
      "목록(s), 추가(a), 검색(f), 수정(u), 삭제(d),종료(x) :d\n",
      "삭제할 이름을 입력하세요neo\n",
      "삭제완료\n",
      "메뉴를 선택하쇼\n",
      "목록(s), 추가(a), 검색(f), 수정(u), 삭제(d),종료(x) :x\n",
      "프로그램 종료\n"
     ]
    }
   ],
   "source": [
    "# 사뤈정보 입력, 출력, 수정 삭제\n",
    "# 목록(s), 추가(a), 검색(f), 수정(u), 삭제(d),종료(x)\n",
    "mems=[]\n",
    "while True:\n",
    "    print(\"메뉴를 선택하쇼\")\n",
    "    cmd=input(\"목록(s), 추가(a), 검색(f), 수정(u), 삭제(d),종료(x) :\")\n",
    "    if cmd=='s':\n",
    "        for i in range(len(mems)):\n",
    "            print(mems[i])\n",
    "    if cmd=='a':\n",
    "        [num,name,phone,email]=input(\"번호 이름 전화 이메일\").split()\n",
    "        mems.append(Member(num,name,phone,email))\n",
    "        print(\"입력완료\")\n",
    "    if cmd=='f':\n",
    "        keyword = input(\"검색할 이름을 입력하세요\")\n",
    "        name=''\n",
    "        for i in range(len(mems)):\n",
    "            if mems[i].name==keyword:\n",
    "                print(mems[i])\n",
    "    if cmd=='u':\n",
    "        keyword = input(\"수정할 회원의 이름을 입력하세요\")\n",
    "        name=''\n",
    "        for i in range(len(mems)):\n",
    "            if mems[i].name==keyword:\n",
    "                print(mems[i])\n",
    "                if input(\"회원을 수정할까요 y/n\")=='y':\n",
    "                    [num,name,phone,email]=input(\"번호 이름 전화 이메일\").split()\n",
    "                    mems[i]=Member(num,name,phone,email)\n",
    "                    print(\"수정완료\")\n",
    "                else:\n",
    "                    pass\n",
    "    if cmd=='d':\n",
    "        keyword = input(\"삭제할 이름을 입력하세요\")\n",
    "        name=''\n",
    "        for i in range(len(mems)):\n",
    "            if mems[i].name==keyword:\n",
    "                mems.pop(i)\n",
    "                print(\"삭제완료\")\n",
    "    if cmd=='x':\n",
    "        print(\"프로그램 종료\")\n",
    "        break"
   ]
  },
  {
   "cell_type": "code",
   "execution_count": null,
   "id": "106dea92",
   "metadata": {},
   "outputs": [],
   "source": [
    "class Emp:\n",
    "    def __init__(self,num,name,dept=None,sal=None):\n",
    "        self.num=num\n",
    "        self.name=name\n",
    "        self.dept=dept\n",
    "        self.sal=sal\n",
    "    \n",
    "    def __eq__(self,otherEmp):\n",
    "        return (self.num==otherEmp.num) and (self.name==otherEmp.name)\n",
    "    \n",
    "    def __str__(self):\n",
    "        return f'{self.num}\\t{self.name}\\t{self.dept}\\t{self.sal}'"
   ]
  },
  {
   "cell_type": "code",
   "execution_count": null,
   "id": "e4c99f2d",
   "metadata": {},
   "outputs": [],
   "source": [
    "empList=[]"
   ]
  },
  {
   "cell_type": "code",
   "execution_count": null,
   "id": "d26dfc04",
   "metadata": {},
   "outputs": [],
   "source": [
    "def printList():\n",
    "    for e in empList:\n",
    "        print(e)\n",
    "        \n",
    "def find():\n",
    "    strInfo=input('검색할 사원번호: 이름:')\n",
    "    [num,name]=strInfo.split()\n",
    "    findEmp = Emp(num,name)\n",
    "    for e in empList:\n",
    "        if (e.__eq__(findEmp)):\n",
    "            print(e)\n",
    "            return True\n",
    "    return False\n",
    "\n",
    "def add():\n",
    "    eInfo=input('사원번호 이름 부서 급여:')\n",
    "    [num,name,dept,sal]=eInfo.split()\n",
    "    newEmp=Emp(num,name,dept,sal)\n",
    "    empList.append(newEmp)\n",
    "    print(\"새 사원전보 추가 성공...\")\n",
    "\n",
    "# 수정대상 번호, 이름, 새부서, 새급여 : 누구를 수정할 것인가?\n",
    "# 사원정보 리스트에서 검색\n",
    "# 검색된 대상의 부서, 급여갱신\n",
    "def update():\n",
    "    updateInfo=input('사원번호 이름 새부서 새금여:')\n",
    "    [num,name,newDept,newSal]=updateInfo.split()\n",
    "    updateEmp = Emp(num,name,newDept,newSal)\n",
    "    for e in empList:\n",
    "        if e.__eq__(updateEmp):\n",
    "            e.dept=update.dept\n",
    "            e.sal=update.sal\n",
    "            print('수정성공')\n",
    "            return True\n",
    "    return False\n",
    "    '''\n",
    "    strInfo=input('검색할 사원번호: 이름:')\n",
    "    [num,name]=strInfo.split()\n",
    "    findEmp = Emp(num,name)\n",
    "    for e in empList:\n",
    "        emp=e\n",
    "        if (e.num==findEmp.num) and (e.name==findEmp.name):\n",
    "            newInput=input(\"새로운 정보 부서 급여:\")\n",
    "            [dept,sal]=newInput.split()\n",
    "            updateEmp=Emp(findEmp.num,findEmp.name,dept,sal)\n",
    "\n",
    "            print(\"수정전 내용\",e)\n",
    "            print(\"업데이트내용\",updateEmp)\n",
    "            emp=updateEmp\n",
    "            print(\"회원정보 수정완료\")\n",
    "            return True\n",
    "    return False\n",
    "    '''\n",
    "def delete(): #삭제대상: 번호 이름ㅇ르 키보으에서 입력닫는다\n",
    "    deleteInfo=input('삭제할 사원:사원번호 이름')\n",
    "    [num,name]=deleteInfo.split()\n",
    "    delEmp = Emp(num,name)\n",
    "    empList.remove(delEmp)"
   ]
  },
  {
   "cell_type": "code",
   "execution_count": null,
   "id": "c5ddea75",
   "metadata": {},
   "outputs": [],
   "source": [
    "# 사원정보 입력, 출력, 수정 삭제\n",
    "# 목록(s), 추가(a), 검색(f), 수정(u), 삭제(d),종료(x)\n",
    "while True:\n",
    "    uMenu=input('목록(s), 추가(a), 검색(f), 수정(u), 삭제(d),종료(x)')\n",
    "    if uMenu=='s':\n",
    "        printList()\n",
    "    elif uMenu=='a':\n",
    "        add()\n",
    "    elif uMenu=='f':\n",
    "        find()\n",
    "    elif uMenu=='u':\n",
    "        update()\n",
    "    elif uMenu=='d':\n",
    "        delete()\n",
    "    elif uMenu=='x':\n",
    "        break\n",
    "        \n",
    "print(\"프로그램 종료\")"
   ]
  }
 ],
 "metadata": {
  "kernelspec": {
   "display_name": "Python 3 (ipykernel)",
   "language": "python",
   "name": "python3"
  },
  "language_info": {
   "codemirror_mode": {
    "name": "ipython",
    "version": 3
   },
   "file_extension": ".py",
   "mimetype": "text/x-python",
   "name": "python",
   "nbconvert_exporter": "python",
   "pygments_lexer": "ipython3",
   "version": "3.9.10"
  }
 },
 "nbformat": 4,
 "nbformat_minor": 5
}
