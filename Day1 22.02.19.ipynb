{
 "cells": [
  {
   "cell_type": "code",
   "execution_count": null,
   "id": "be111179",
   "metadata": {},
   "outputs": [],
   "source": [
    "print(\"hello python\")\n",
    "#여기는 주석"
   ]
  },
  {
   "cell_type": "code",
   "execution_count": null,
   "id": "afbd162d",
   "metadata": {},
   "outputs": [],
   "source": [
    "kbd=input()\n",
    "print(\"입"
   ]
  },
  {
   "cell_type": "markdown",
   "id": "3d6bdf91",
   "metadata": {},
   "source": [
    "# 여기는 마크다운\n",
    "## 여기는 마크다운 2\n",
    "* 첫번째 항목\n",
    "* 두번째 항목\n",
    "* <span style='color: red;'> 세번째 항목 </span>\n",
    "* <b><i>마크다운 형식은 html문법을 포함한다</i></b>"
   ]
  },
  {
   "cell_type": "code",
   "execution_count": null,
   "id": "fc4d8760",
   "metadata": {},
   "outputs": [],
   "source": [
    "#<esc> <b> 새로운 셀\n",
    "#<esc> <dd> 셀 삭제\n",
    "#<esc> <a> 셀위에 새로운 셀 생성\n",
    "#<ctrl> <enter> 셀 실행\n",
    "#<shift> <endter> 셀을 실행하고 새로운 셀을 생성한다\n",
    "#<esc> <m> 마크다운마크다운\n",
    "#<enter> 편집\n",
    "#kernel -> Restart & Clear output 실행결과를 지움"
   ]
  },
  {
   "cell_type": "code",
   "execution_count": null,
   "id": "3fa1db49",
   "metadata": {},
   "outputs": [],
   "source": [
    "# 정수 실수, 문자열, 불리언\n",
    "# 정수\n",
    "a = 20\n",
    "print(a)\n",
    "\n",
    "# 실수\n",
    "f  = 3.14\n",
    "print(f)\n",
    "\n",
    "# 문자열\n",
    "str = \"String\"\n",
    "print(str)\n",
    "str = 'this is Stirng'\n",
    "print(str)\n",
    "str = \"\"\"Also this is String\"\"\"\n",
    "print(str)\n",
    "#''escape 됨 \\필요가 없다!\n",
    "str = \"The character 'A' is the first\"\n",
    "print(str)\n",
    "str = 'Hello \"Smith\"'\n",
    "print (str)\n",
    "str = '''First\n",
    "Second\n",
    "Third'''\n",
    "print(str)\n",
    "\n",
    "#boolean\n",
    "b = True\n",
    "print(b)\n",
    "b = False\n",
    "print(b)\n",
    "print(True and False)\n",
    "True or False\n",
    "#주피터 노트북에서 마지막 표현식은 자동으로 print 된다 \n",
    "#허수 계산\n",
    "a = 3+4j\n",
    "b = 5+2j\n",
    "a+b"
   ]
  },
  {
   "cell_type": "code",
   "execution_count": null,
   "id": "839ced33",
   "metadata": {},
   "outputs": [],
   "source": [
    "userName = \"Smith\"\n",
    "print(userName)\n",
    "user_name = \"Andy\"\n",
    "print(user_name)"
   ]
  },
  {
   "cell_type": "code",
   "execution_count": null,
   "id": "885329e8",
   "metadata": {},
   "outputs": [],
   "source": [
    "# 산술연산자(Arithmetic Operators)\n",
    "# +, -, *, /, %, **(제곱), //(정수 몫)\n",
    "2/3\n",
    "2//3\n",
    "2*3\n",
    "2**3\n",
    "a = 0\n",
    "#a++\n",
    "#증감 연산자가 없다\n",
    "a+=1\n",
    "print(a)"
   ]
  },
  {
   "cell_type": "code",
   "execution_count": null,
   "id": "eecacd53",
   "metadata": {},
   "outputs": [],
   "source": [
    "#a=10\n",
    "#print(\"입력값은\"+ a +\"입니다\")\n",
    "a=10\n",
    "print(\"입력값은\",a,\"입니다\")"
   ]
  },
  {
   "cell_type": "code",
   "execution_count": null,
   "id": "43c37f5e",
   "metadata": {},
   "outputs": [],
   "source": [
    "a=10\n",
    "print(\"a=\",a)\n",
    "print(\"a=\"+ str(a)+\"입니다\")\n",
    "c= \"a\"+\"b\"\n",
    "print(c)\n",
    "\n",
    "a=1\n",
    "str = f'a={a}'\n",
    "print(str)\n",
    "#f printf"
   ]
  },
  {
   "cell_type": "markdown",
   "id": "68326b1a",
   "metadata": {},
   "source": [
    "### str(10)\n",
    "s =100\n",
    "s2 = \"a \"+ str(s) + \" b\"\n",
    "s2\n",
    "#print(s2)"
   ]
  },
  {
   "cell_type": "code",
   "execution_count": null,
   "id": "5644f0a6",
   "metadata": {},
   "outputs": [],
   "source": [
    "# 비교 연산자 (Comparison Operators)\n",
    "# <, >, <=, >=, ==, !=, is(객체의 동일성), is not, not\n",
    "\n",
    "# 논리 연산자(Logical Operators)\n",
    "# or, and, not"
   ]
  },
  {
   "cell_type": "code",
   "execution_count": null,
   "id": "293b0337",
   "metadata": {},
   "outputs": [],
   "source": [
    "a=5\n",
    "b=4\n",
    "a>b\n",
    "a!=b\n",
    "'a'=='a'"
   ]
  },
  {
   "cell_type": "code",
   "execution_count": null,
   "id": "b4984c1e",
   "metadata": {},
   "outputs": [],
   "source": [
    "b1 = True\n",
    "b2 = False\n",
    "\n",
    "b1 or b2\n",
    "b1 = not b2\n",
    "b1"
   ]
  },
  {
   "cell_type": "code",
   "execution_count": null,
   "id": "c51c47e0",
   "metadata": {},
   "outputs": [],
   "source": [
    "True & False #and\n",
    "True | False #or\n",
    "not False"
   ]
  },
  {
   "cell_type": "code",
   "execution_count": null,
   "id": "2ea96476",
   "metadata": {},
   "outputs": [],
   "source": [
    "a = 10;\n",
    "type(a)"
   ]
  },
  {
   "cell_type": "code",
   "execution_count": null,
   "id": "47c2019d",
   "metadata": {},
   "outputs": [],
   "source": [
    "a = input(\"숫자 입력\")\n",
    "\n",
    "res = f'입력된 숫자는 {a}입니다'\n",
    "print(res)"
   ]
  },
  {
   "cell_type": "code",
   "execution_count": null,
   "id": "8ad97ffb",
   "metadata": {},
   "outputs": [],
   "source": [
    "# 문자열 변환 str(3), 정수변환 int('3')\n",
    "a= input('숫자 입력(1):')\n",
    "b= input('숫자 입력(2):')\n",
    "# a+b=xx\n",
    "print(str(a),\"더하기\",str(b),\"는 \",int(a)+int(b),'입니다')\n",
    "res = f'{a}+{b} = {int(a)+int(b)}'\n",
    "print(res)\n"
   ]
  },
  {
   "cell_type": "code",
   "execution_count": null,
   "id": "1b8525a7",
   "metadata": {},
   "outputs": [],
   "source": [
    "# 실수끼리 뺄샘해보세요 (키보드 입력)\n",
    "a=input('첫번째 숫자:')\n",
    "b=input('두번째 숫자:')\n",
    "res = f'{a}-{b} = {float(a)-float(b)}'\n",
    "print(res)"
   ]
  },
  {
   "cell_type": "code",
   "execution_count": null,
   "id": "a451c119",
   "metadata": {},
   "outputs": [],
   "source": [
    "#제어문\n",
    "if True != False:\n",
    "    print('참')"
   ]
  },
  {
   "cell_type": "code",
   "execution_count": null,
   "id": "a518a97c",
   "metadata": {},
   "outputs": [],
   "source": [
    "#if 들여쓰기 주의\n",
    "if False:\n",
    "    print('참')\n",
    "    print('블럭')\n",
    "print('블럭외부')"
   ]
  },
  {
   "cell_type": "code",
   "execution_count": null,
   "id": "d683e5f1",
   "metadata": {},
   "outputs": [],
   "source": [
    "#pass\n",
    "#break 는 동일\n",
    "if 1<2:\n",
    "    pass\n",
    "elif 2<3: #else if ()\n",
    "    pass\n",
    "else:\n",
    "    pass"
   ]
  },
  {
   "cell_type": "code",
   "execution_count": null,
   "id": "299dc97e",
   "metadata": {},
   "outputs": [],
   "source": [
    "#for\n",
    "nums = [2,4,6,8]\n",
    "for n in nums:\n",
    "    print(n)"
   ]
  },
  {
   "cell_type": "code",
   "execution_count": null,
   "id": "6ca906af",
   "metadata": {},
   "outputs": [],
   "source": [
    "#while\n",
    "while 1<2 :\n",
    "    print (\"블럭\")"
   ]
  },
  {
   "cell_type": "code",
   "execution_count": null,
   "id": "b531fdcd",
   "metadata": {},
   "outputs": [],
   "source": [
    "#모듈\n",
    "a = -5\n",
    "print(a)\n",
    "abs(a)\n",
    "max(1,2,3)\n",
    "round(2.11828)\n",
    "#제곱근 구하기\n",
    "import math # math 모듈을 사용, math.py\n",
    "math.sqrt(9)\n",
    "import math as m\n",
    "m.sqrt(49)"
   ]
  },
  {
   "cell_type": "code",
   "execution_count": null,
   "id": "08df6071",
   "metadata": {},
   "outputs": [],
   "source": [
    "m.sin(90)\n",
    "# 180[deg] = pi[rad]\n",
    "# 1[deg]=pi/180[rad]\n",
    "# 90[deg] = 90*pi/180[rad]\n",
    "rad=90*m.pi/180\n",
    "m.sin(rad)\n",
    "m.sin(m.pi/2)\n",
    "#cos 45?\n",
    "rad=45*m.pi/180\n",
    "m.cos(rad)"
   ]
  },
  {
   "cell_type": "code",
   "execution_count": null,
   "id": "d14f22f5",
   "metadata": {},
   "outputs": [],
   "source": [
    "n=5\n",
    "s=f'abc {n}'\n",
    "print(s)"
   ]
  },
  {
   "cell_type": "code",
   "execution_count": null,
   "id": "cdef0e9d",
   "metadata": {},
   "outputs": [],
   "source": [
    "#함수 선언부\n",
    "def test():\n",
    "    print('함수')"
   ]
  },
  {
   "cell_type": "code",
   "execution_count": null,
   "id": "013ce0d2",
   "metadata": {
    "scrolled": true
   },
   "outputs": [],
   "source": [
    "test()\n",
    "test()"
   ]
  },
  {
   "cell_type": "code",
   "execution_count": null,
   "id": "7145cc24",
   "metadata": {},
   "outputs": [],
   "source": [
    "def add(a,b):\n",
    "    c=a+b\n",
    "    print(c)\n",
    "    return a+b"
   ]
  },
  {
   "cell_type": "code",
   "execution_count": null,
   "id": "1577f205",
   "metadata": {},
   "outputs": [],
   "source": [
    "c =add(3,5)\n",
    "print('결과:',c)"
   ]
  },
  {
   "cell_type": "code",
   "execution_count": null,
   "id": "e93ffd6f",
   "metadata": {},
   "outputs": [],
   "source": [
    "m.pow(2,3)\n",
    "2**3"
   ]
  },
  {
   "cell_type": "code",
   "execution_count": null,
   "id": "e268b077",
   "metadata": {},
   "outputs": [],
   "source": [
    "# 피타고라스의 정리: a^2 = b^2 + c^2\n",
    "# 직각삼각형의 밑변과 높이를 받아서 사변의 길이를 구하는 함수작성\n",
    "# pt(3,4) --> 5\n",
    "def hyp_len(base,height):\n",
    "    return m.sqrt(base**2 + height**2)"
   ]
  },
  {
   "cell_type": "code",
   "execution_count": null,
   "id": "ba8be89f",
   "metadata": {},
   "outputs": [],
   "source": [
    "hyp_len(3,4)"
   ]
  },
  {
   "cell_type": "code",
   "execution_count": null,
   "id": "764170f3",
   "metadata": {},
   "outputs": [],
   "source": [
    "def tuple_ret():\n",
    "    return 3, 5, 7 # tuple 이라는 컬렉션에 담겨서 리턴"
   ]
  },
  {
   "cell_type": "code",
   "execution_count": null,
   "id": "7d6dec04",
   "metadata": {},
   "outputs": [],
   "source": [
    "tuple_ret()"
   ]
  },
  {
   "cell_type": "code",
   "execution_count": null,
   "id": "fd926927",
   "metadata": {
    "scrolled": true
   },
   "outputs": [],
   "source": [
    "a,b,c = tuple_ret()\n",
    "print(a,b,c)"
   ]
  },
  {
   "cell_type": "code",
   "execution_count": null,
   "id": "3a1f3d42",
   "metadata": {},
   "outputs": [],
   "source": [
    "# 섭씨온도를 화씨 온도로 변환해주는 함수를 작성하고 키보드에서 \n",
    "# 섭씨온도를 입력하여 화씨온도로 변환하여 화면에 표시해보세요\n",
    "\n",
    "def C2F(C):\n",
    "    return 1.8*C+32\n",
    "\n",
    "kbd=input(\"변환할 섭씨를 입력하세요\")\n",
    "C = float(kbd)\n",
    "res=f'섭씨{kbd}도는 화씨{C2F(C)}도입니다'\n",
    "print(res)\n"
   ]
  },
  {
   "cell_type": "code",
   "execution_count": null,
   "id": "6e140d2d",
   "metadata": {},
   "outputs": [],
   "source": [
    "a=100"
   ]
  },
  {
   "cell_type": "code",
   "execution_count": null,
   "id": "a043060c",
   "metadata": {},
   "outputs": [],
   "source": [
    "def test(b,c):\n",
    "    #a=7\n",
    "    print(a,c)\n",
    "    \n",
    "test(1,2)"
   ]
  },
  {
   "cell_type": "code",
   "execution_count": 3,
   "id": "7f7a07e3",
   "metadata": {},
   "outputs": [],
   "source": [
    "#키보드에서 성적 0-100이 입력되면 60~69 :D\n",
    "def credit(num):\n",
    "    if num<70:\n",
    "        res =\"D\"\n",
    "    elif num<80:\n",
    "        res =\"C\"\n",
    "    elif num<90:\n",
    "        res =\"B\"\n",
    "    elif num<=100:\n",
    "        res=\"A\"\n",
    "    else:\n",
    "        res=\"F\"\n",
    "    return res"
   ]
  },
  {
   "cell_type": "code",
   "execution_count": 4,
   "id": "e88a34a2",
   "metadata": {},
   "outputs": [
    {
     "name": "stdout",
     "output_type": "stream",
     "text": [
      "A\n"
     ]
    }
   ],
   "source": [
    "score=credit(93)\n",
    "print(score)"
   ]
  },
  {
   "cell_type": "code",
   "execution_count": 13,
   "id": "9975e505",
   "metadata": {},
   "outputs": [
    {
     "data": {
      "text/plain": [
       "0"
      ]
     },
     "execution_count": 13,
     "metadata": {},
     "output_type": "execute_result"
    }
   ],
   "source": [
    "import random as r\n",
    "r.randrange(0,5) #5는 비포함! 0~4\n"
   ]
  },
  {
   "cell_type": "code",
   "execution_count": 24,
   "id": "7be532c3",
   "metadata": {
    "scrolled": true
   },
   "outputs": [
    {
     "name": "stdout",
     "output_type": "stream",
     "text": [
      "3\n",
      "0~20 까지의 렌덤숫자 입니다 무엇일까요?3\n",
      "3 정답입니다 1번 걸리셨네요^^\n"
     ]
    }
   ],
   "source": [
    "#무작위 숫자(0~20)를 선정하여 이용자에게 스 숫자를 맞추도록\n",
    "#키보드 입력을 받아서 '정답보다 크다/적다' 형식의 도움말을 제공\n",
    "#하여 결국 이용자가 그 숫자를 맞추기까지 걸리는 총 횟수를 화면에\n",
    "#표시라는 기능을 작성해보세요\n",
    "rd=r.randrange(0,21)\n",
    "cnt=0 #초기화해주지않으면 전에 메소드 실행한 겂이 그대로 불러와진다.\n",
    "while True:\n",
    "    kbd=input(\"0~20 까지의 렌덤숫자 입니다 무엇일까요?\")\n",
    "    inputNum = int(kbd)\n",
    "    cnt+=1\n",
    "    if  inputNum>rd:\n",
    "        print(\"숫자가 큽니다\")\n",
    "    elif inputNum<rd:\n",
    "        print(\"숫자가 작습니다\")\n",
    "    else:\n",
    "        msg=f'{kbd} 정답입니다 {cnt}번 걸리셨네요^^'\n",
    "        print(msg)\n",
    "        break\n"
   ]
  },
  {
   "cell_type": "code",
   "execution_count": null,
   "id": "4d52af84",
   "metadata": {},
   "outputs": [],
   "source": [
    "try:\n",
    "    pass\n",
    "except:\n",
    "    pass\n",
    "else:\n",
    "    pass #에러가 안났을때 들어가는 로직 거의 쓰지 않는다."
   ]
  },
  {
   "cell_type": "code",
   "execution_count": 50,
   "id": "a4b2c471",
   "metadata": {},
   "outputs": [
    {
     "name": "stdout",
     "output_type": "stream",
     "text": [
      "첫번째 숫자3\n",
      "두번째 숫자0\n",
      "0으로 나눌수 없어요. (불능)___ float division by zero\n",
      "프로그램 종료\n"
     ]
    }
   ],
   "source": [
    "### 키보드에서 2개의 숫자를 받아서 a/b 계산 실행, 그 결과식 출력\n",
    "# 출력예시> 3/2 - 1.xxx\n",
    "try:\n",
    "    input1 = float(input('첫번째 숫자'))\n",
    "    input2 = float(input('두번째 숫자'))\n",
    "    res=f'{input1}나누기{input2}는 {input1/input2}입니다'\n",
    "except ValueError as ve:\n",
    "    print('숫자만 입력할수 있어요^^;___',ve)\n",
    "except ZeroDivisionError as ze:\n",
    "    print('0으로 나눌수 없어요. (불능)___',ze)\n",
    "else: \n",
    "    print(res)\n",
    "print(\"프로그램 종료\")"
   ]
  },
  {
   "cell_type": "code",
   "execution_count": 52,
   "id": "620359ea",
   "metadata": {},
   "outputs": [
    {
     "name": "stdout",
     "output_type": "stream",
     "text": [
      "Hello World\n"
     ]
    },
    {
     "data": {
      "text/plain": [
       "'AB'"
      ]
     },
     "execution_count": 52,
     "metadata": {},
     "output_type": "execute_result"
    }
   ],
   "source": [
    "s=\"Hello World\"\n",
    "print(s)\n",
    "len(s)\n",
    "s=\"A\" + \"B\"\n",
    "s"
   ]
  },
  {
   "cell_type": "code",
   "execution_count": 60,
   "id": "e1d5a8c6",
   "metadata": {},
   "outputs": [
    {
     "data": {
      "text/plain": [
       "'ace'"
      ]
     },
     "execution_count": 60,
     "metadata": {},
     "output_type": "execute_result"
    }
   ],
   "source": [
    "data =\"abcdefghijklmnopqrstuvwxyz\"\n",
    "\"de\"in data\n",
    "\"de\"not in data\n",
    "data*2\n",
    "2*data\n",
    "data[0]\n",
    "data[0:3]   # Slicing\n",
    "data[0:2]\n",
    "data[0:6:2] # Step"
   ]
  },
  {
   "cell_type": "code",
   "execution_count": 1,
   "id": "f74417c3",
   "metadata": {},
   "outputs": [],
   "source": [
    "#이정도면 만족!!!"
   ]
  },
  {
   "cell_type": "code",
   "execution_count": 1,
   "id": "900b3169",
   "metadata": {},
   "outputs": [
    {
     "name": "stderr",
     "output_type": "stream",
     "text": [
      "/var/folders/4m/y331ttm54b73h77wmw6sl8c80000gn/T/ipykernel_23561/2516566662.py:1: DeprecationWarning: Importing display from IPython.core.display is deprecated since IPython 7.14, please import from IPython display\n",
      "  from IPython.core.display import display, HTML\n"
     ]
    },
    {
     "data": {
      "text/html": [
       "<style>.container { width:90% !important; }</style>"
      ],
      "text/plain": [
       "<IPython.core.display.HTML object>"
      ]
     },
     "metadata": {},
     "output_type": "display_data"
    }
   ],
   "source": [
    "from IPython.core.display import display, HTML\n",
    "\n",
    "display(HTML(\"<style>.container { width:90% !important; }</style>\"))\n",
    "\n",
    "#창 맞추기위함"
   ]
  }
 ],
 "metadata": {
  "kernelspec": {
   "display_name": "Python 3 (ipykernel)",
   "language": "python",
   "name": "python3"
  },
  "language_info": {
   "codemirror_mode": {
    "name": "ipython",
    "version": 3
   },
   "file_extension": ".py",
   "mimetype": "text/x-python",
   "name": "python",
   "nbconvert_exporter": "python",
   "pygments_lexer": "ipython3",
   "version": "3.9.10"
  }
 },
 "nbformat": 4,
 "nbformat_minor": 5
}
